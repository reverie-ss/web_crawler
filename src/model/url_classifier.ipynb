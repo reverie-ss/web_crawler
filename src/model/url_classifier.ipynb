{
 "cells": [
  {
   "cell_type": "code",
   "execution_count": 8,
   "metadata": {},
   "outputs": [],
   "source": [
    "from urllib.parse import urlparse\n",
    "import json\n",
    "\n",
    "parsed_links = []\n",
    "count = 0\n",
    "for u in all_urls:\n",
    "    parsed = urlparse(u)\n",
    "    path = parsed.path\n",
    "    split = parsed.path.split('/')\n",
    "    product = 0\n",
    "    data = {\n",
    "        \"url\": path,\n",
    "        \"label\": 0\n",
    "    }\n",
    "    if 'products' in split or 'p' in split:\n",
    "        data[\"label\"] = 1\n",
    "        count += 1\n",
    "\n",
    "    parsed_links.append(data)"
   ]
  },
  {
   "cell_type": "code",
   "execution_count": 16,
   "metadata": {},
   "outputs": [
    {
     "name": "stdout",
     "output_type": "stream",
     "text": [
      "Loaded 20113 links.\n"
     ]
    }
   ],
   "source": [
    "import json\n",
    "with open(\"dataset.json\", \"r\") as f:\n",
    "    dataset_urls = json.load(f)\n",
    "print(f\"Loaded {len(dataset_urls)} links.\")"
   ]
  },
  {
   "cell_type": "code",
   "execution_count": null,
   "metadata": {},
   "outputs": [],
   "source": [
    "\n",
    "# Extract URLs and labels\n",
    "urls = [item[\"url\"] for item in parsed_links]  # Add domain if needed\n",
    "labels = [item[\"label\"] for item in parsed_links]\n",
    "\n",
    "# Preprocess URLs (replace hyphens, slashes, etc.)\n",
    "def preprocess(url):\n",
    "    return url.lower().replace(\"-\", \" \").replace(\"/\", \" \").replace(\"_\", \" \")\n",
    "\n",
    "processed_urls = [preprocess(url) for url in urls]\n",
    "processed_urls[:5]"
   ]
  },
  {
   "cell_type": "code",
   "execution_count": null,
   "metadata": {},
   "outputs": [],
   "source": [
    "from sklearn.feature_extraction.text import TfidfVectorizer\n",
    "# TF-IDF vectorization\n",
    "vectorizer = TfidfVectorizer(analyzer=\"char_wb\", ngram_range=(3, 5))\n",
    "X = vectorizer.fit_transform(processed_urls)\n"
   ]
  },
  {
   "cell_type": "code",
   "execution_count": null,
   "metadata": {},
   "outputs": [],
   "source": [
    "from sklearn.model_selection import train_test_split\n",
    "# Train-test split\n",
    "X_train, X_test, y_train, y_test = train_test_split(X, labels, test_size=0.3, random_state=42)\n"
   ]
  },
  {
   "cell_type": "code",
   "execution_count": null,
   "metadata": {},
   "outputs": [],
   "source": [
    "from xgboost import XGBClassifier\n",
    "# XGBoost model\n",
    "xgb = XGBClassifier(use_label_encoder=False, eval_metric=\"logloss\", random_state=42)\n",
    "xgb.fit(X_train, y_train)\n",
    "\n",
    "# Predict and evaluate\n",
    "y_pred = xgb.predict(X_test)\n",
    "print(\"🔍 XGBoost Classification Report:\")\n",
    "print(classification_report(y_test, y_pred))"
   ]
  },
  {
   "cell_type": "code",
   "execution_count": null,
   "metadata": {},
   "outputs": [],
   "source": [
    "import numpy as np\n",
    "from sklearn.feature_extraction.text import TfidfVectorizer\n",
    "from sklearn.ensemble import RandomForestClassifier\n",
    "def preprocess_url(url: str) -> str:\n",
    "    url = url.lower().replace(\"https://\", \"\").replace(\"http://\", \"\")\n",
    "    url = url.replace(\".\", \"/\").replace(\"-\", \" \").replace(\"_\", \" \")\n",
    "    return url\n",
    "\n",
    "def predict_url_label(url, model: RandomForestClassifier, vectorizer: TfidfVectorizer) -> int:\n",
    "    processed = preprocess_url(url)\n",
    "    vectorized = vectorizer.transform([processed])  # note: list input\n",
    "    prediction = model.predict(vectorized)[0]\n",
    "    return prediction\n",
    "\n",
    "for url in all_urls:\n",
    "    response = predict_url_label(\n",
    "        url=url,\n",
    "        model=rf,\n",
    "        vectorizer=vectorizer,\n",
    "    )\n",
    "    if response == np.int64(0):\n",
    "        print(\"Not a product page:\", url)\n"
   ]
  }
 ],
 "metadata": {
  "kernelspec": {
   "display_name": ".venv",
   "language": "python",
   "name": "python3"
  },
  "language_info": {
   "codemirror_mode": {
    "name": "ipython",
    "version": 3
   },
   "file_extension": ".py",
   "mimetype": "text/x-python",
   "name": "python",
   "nbconvert_exporter": "python",
   "pygments_lexer": "ipython3",
   "version": "3.13.3"
  }
 },
 "nbformat": 4,
 "nbformat_minor": 2
}
