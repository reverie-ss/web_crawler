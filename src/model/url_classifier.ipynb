{
 "cells": [
  {
   "cell_type": "code",
   "execution_count": 18,
   "metadata": {},
   "outputs": [
    {
     "name": "stdout",
     "output_type": "stream",
     "text": [
      "Loaded 20113 links.\n"
     ]
    }
   ],
   "source": [
    "import json\n",
    "with open(\"dataset.json\", \"r\") as f:\n",
    "    dataset_urls = json.load(f)\n",
    "print(f\"Loaded {len(dataset_urls)} links.\")"
   ]
  },
  {
   "cell_type": "code",
   "execution_count": 19,
   "metadata": {},
   "outputs": [
    {
     "data": {
      "text/plain": [
       "[' ',\n",
       " ' products nuon black slim fit mid rise jeans 300796748',\n",
       " ' products wes formals black relaxed fit trousers 300796731',\n",
       " ' products zuba off white silk blend embroidered cotton blend stole 300802883',\n",
       " ' products utsa black solid palazzos 300673565']"
      ]
     },
     "execution_count": 19,
     "metadata": {},
     "output_type": "execute_result"
    }
   ],
   "source": [
    "\n",
    "# Extract URLs and labels\n",
    "urls = [item[\"url\"] for item in dataset_urls]  # Add domain if needed\n",
    "labels = [item[\"label\"] for item in dataset_urls]\n",
    "\n",
    "# Preprocess URLs (replace hyphens, slashes, etc.)\n",
    "def preprocess(url):\n",
    "    return url.lower().replace(\"-\", \" \").replace(\"/\", \" \").replace(\"_\", \" \")\n",
    "\n",
    "processed_urls = [preprocess(url) for url in urls]\n",
    "processed_urls[:5]"
   ]
  },
  {
   "cell_type": "code",
   "execution_count": 20,
   "metadata": {},
   "outputs": [],
   "source": [
    "from sklearn.feature_extraction.text import TfidfVectorizer\n",
    "# TF-IDF vectorization\n",
    "vectorizer = TfidfVectorizer(analyzer=\"char_wb\", ngram_range=(3, 5))\n",
    "X = vectorizer.fit_transform(processed_urls)\n"
   ]
  },
  {
   "cell_type": "code",
   "execution_count": 21,
   "metadata": {},
   "outputs": [],
   "source": [
    "from sklearn.model_selection import train_test_split\n",
    "# Train-test split\n",
    "X_train, X_test, y_train, y_test = train_test_split(X, labels, test_size=0.3, random_state=42)\n"
   ]
  },
  {
   "cell_type": "code",
   "execution_count": 23,
   "metadata": {},
   "outputs": [
    {
     "name": "stderr",
     "output_type": "stream",
     "text": [
      "/Users/reverie/Documents/web_crawler/.venv/lib/python3.13/site-packages/xgboost/training.py:183: UserWarning: [08:51:01] WARNING: /Users/runner/work/xgboost/xgboost/src/learner.cc:738: \n",
      "Parameters: { \"use_label_encoder\" } are not used.\n",
      "\n",
      "  bst.update(dtrain, iteration=i, fobj=obj)\n"
     ]
    },
    {
     "name": "stdout",
     "output_type": "stream",
     "text": [
      "XGBoost Classification Report:\n",
      "              precision    recall  f1-score   support\n",
      "\n",
      "           0       1.00      1.00      1.00       866\n",
      "           1       1.00      1.00      1.00      5168\n",
      "\n",
      "    accuracy                           1.00      6034\n",
      "   macro avg       1.00      1.00      1.00      6034\n",
      "weighted avg       1.00      1.00      1.00      6034\n",
      "\n"
     ]
    }
   ],
   "source": [
    "from xgboost import XGBClassifier\n",
    "from sklearn.metrics import classification_report\n",
    "# XGBoost model\n",
    "xgb = XGBClassifier(use_label_encoder=False, eval_metric=\"logloss\", random_state=42)\n",
    "model = xgb.fit(X_train, y_train)\n",
    "\n",
    "# Predict and evaluate\n",
    "y_pred = xgb.predict(X_test)\n",
    "print(\"XGBoost Classification Report:\")\n",
    "print(classification_report(y_test, y_pred))"
   ]
  },
  {
   "cell_type": "code",
   "execution_count": 25,
   "metadata": {},
   "outputs": [
    {
     "data": {
      "text/plain": [
       "['model.pkl']"
      ]
     },
     "execution_count": 25,
     "metadata": {},
     "output_type": "execute_result"
    }
   ],
   "source": [
    "import joblib\n",
    "# Save the TF-IDF vectorizer\n",
    "joblib.dump(vectorizer, \"tfidf_vectorizer.pkl\")\n",
    "# Save the trained model\n",
    "joblib.dump(model, \"model.pkl\")\n"
   ]
  }
 ],
 "metadata": {
  "kernelspec": {
   "display_name": ".venv",
   "language": "python",
   "name": "python3"
  },
  "language_info": {
   "codemirror_mode": {
    "name": "ipython",
    "version": 3
   },
   "file_extension": ".py",
   "mimetype": "text/x-python",
   "name": "python",
   "nbconvert_exporter": "python",
   "pygments_lexer": "ipython3",
   "version": "3.13.3"
  }
 },
 "nbformat": 4,
 "nbformat_minor": 2
}
